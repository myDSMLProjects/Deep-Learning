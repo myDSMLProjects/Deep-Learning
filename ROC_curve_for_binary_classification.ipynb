{
  "nbformat": 4,
  "nbformat_minor": 0,
  "metadata": {
    "colab": {
      "name": "ROC curve for binary classification.ipynb",
      "provenance": [],
      "authorship_tag": "ABX9TyMt+WDUAELzIfOxOGTxb6Hc",
      "include_colab_link": true
    },
    "kernelspec": {
      "name": "python3",
      "display_name": "Python 3"
    }
  },
  "cells": [
    {
      "cell_type": "markdown",
      "metadata": {
        "id": "view-in-github",
        "colab_type": "text"
      },
      "source": [
        "<a href=\"https://colab.research.google.com/github/myDSMLProjects/Deep-Learning/blob/master/ROC_curve_for_binary_classification.ipynb\" target=\"_parent\"><img src=\"https://colab.research.google.com/assets/colab-badge.svg\" alt=\"Open In Colab\"/></a>"
      ]
    },
    {
      "cell_type": "code",
      "metadata": {
        "id": "GGFVb7fPaG_o",
        "colab_type": "code",
        "colab": {
          "base_uri": "https://localhost:8080/",
          "height": 215
        },
        "outputId": "69dfc861-7a36-438d-ed31-9b513e82f840"
      },
      "source": [
        "import pandas as pd\n",
        "\n",
        "df = pd.read_csv(\n",
        "    \"https://data.heatonresearch.com/data/t81-558/wcbreast_wdbc.csv\",\n",
        "    na_values=['NA','?'])\n",
        "df.head()"
      ],
      "execution_count": 1,
      "outputs": [
        {
          "output_type": "execute_result",
          "data": {
            "text/html": [
              "<div>\n",
              "<style scoped>\n",
              "    .dataframe tbody tr th:only-of-type {\n",
              "        vertical-align: middle;\n",
              "    }\n",
              "\n",
              "    .dataframe tbody tr th {\n",
              "        vertical-align: top;\n",
              "    }\n",
              "\n",
              "    .dataframe thead th {\n",
              "        text-align: right;\n",
              "    }\n",
              "</style>\n",
              "<table border=\"1\" class=\"dataframe\">\n",
              "  <thead>\n",
              "    <tr style=\"text-align: right;\">\n",
              "      <th></th>\n",
              "      <th>id</th>\n",
              "      <th>diagnosis</th>\n",
              "      <th>mean_radius</th>\n",
              "      <th>mean_texture</th>\n",
              "      <th>mean_perimeter</th>\n",
              "      <th>mean_area</th>\n",
              "      <th>mean_smoothness</th>\n",
              "      <th>mean_compactness</th>\n",
              "      <th>mean_concavity</th>\n",
              "      <th>mean_concave_points</th>\n",
              "      <th>mean_symmetry</th>\n",
              "      <th>mean_fractal_dimension</th>\n",
              "      <th>se_radius</th>\n",
              "      <th>se_texture</th>\n",
              "      <th>se_perimeter</th>\n",
              "      <th>se_area</th>\n",
              "      <th>se_smoothness</th>\n",
              "      <th>se_compactness</th>\n",
              "      <th>se_concavity</th>\n",
              "      <th>se_concave_points</th>\n",
              "      <th>se_symmetry</th>\n",
              "      <th>se_fractal_dimension</th>\n",
              "      <th>worst_radius</th>\n",
              "      <th>worst_texture</th>\n",
              "      <th>worst_perimeter</th>\n",
              "      <th>worst_area</th>\n",
              "      <th>worst_smoothness</th>\n",
              "      <th>worst_compactness</th>\n",
              "      <th>worst_concavity</th>\n",
              "      <th>worst_concave_points</th>\n",
              "      <th>worst_symmetry</th>\n",
              "      <th>worst_fractal_dimension</th>\n",
              "    </tr>\n",
              "  </thead>\n",
              "  <tbody>\n",
              "    <tr>\n",
              "      <th>0</th>\n",
              "      <td>842302</td>\n",
              "      <td>M</td>\n",
              "      <td>17.99</td>\n",
              "      <td>10.38</td>\n",
              "      <td>122.80</td>\n",
              "      <td>1001.0</td>\n",
              "      <td>0.11840</td>\n",
              "      <td>0.27760</td>\n",
              "      <td>0.3001</td>\n",
              "      <td>0.14710</td>\n",
              "      <td>0.2419</td>\n",
              "      <td>0.07871</td>\n",
              "      <td>1.0950</td>\n",
              "      <td>0.9053</td>\n",
              "      <td>8.589</td>\n",
              "      <td>153.40</td>\n",
              "      <td>0.006399</td>\n",
              "      <td>0.04904</td>\n",
              "      <td>0.05373</td>\n",
              "      <td>0.01587</td>\n",
              "      <td>0.03003</td>\n",
              "      <td>0.006193</td>\n",
              "      <td>25.38</td>\n",
              "      <td>17.33</td>\n",
              "      <td>184.60</td>\n",
              "      <td>2019.0</td>\n",
              "      <td>0.1622</td>\n",
              "      <td>0.6656</td>\n",
              "      <td>0.7119</td>\n",
              "      <td>0.2654</td>\n",
              "      <td>0.4601</td>\n",
              "      <td>0.11890</td>\n",
              "    </tr>\n",
              "    <tr>\n",
              "      <th>1</th>\n",
              "      <td>842517</td>\n",
              "      <td>M</td>\n",
              "      <td>20.57</td>\n",
              "      <td>17.77</td>\n",
              "      <td>132.90</td>\n",
              "      <td>1326.0</td>\n",
              "      <td>0.08474</td>\n",
              "      <td>0.07864</td>\n",
              "      <td>0.0869</td>\n",
              "      <td>0.07017</td>\n",
              "      <td>0.1812</td>\n",
              "      <td>0.05667</td>\n",
              "      <td>0.5435</td>\n",
              "      <td>0.7339</td>\n",
              "      <td>3.398</td>\n",
              "      <td>74.08</td>\n",
              "      <td>0.005225</td>\n",
              "      <td>0.01308</td>\n",
              "      <td>0.01860</td>\n",
              "      <td>0.01340</td>\n",
              "      <td>0.01389</td>\n",
              "      <td>0.003532</td>\n",
              "      <td>24.99</td>\n",
              "      <td>23.41</td>\n",
              "      <td>158.80</td>\n",
              "      <td>1956.0</td>\n",
              "      <td>0.1238</td>\n",
              "      <td>0.1866</td>\n",
              "      <td>0.2416</td>\n",
              "      <td>0.1860</td>\n",
              "      <td>0.2750</td>\n",
              "      <td>0.08902</td>\n",
              "    </tr>\n",
              "    <tr>\n",
              "      <th>2</th>\n",
              "      <td>84300903</td>\n",
              "      <td>M</td>\n",
              "      <td>19.69</td>\n",
              "      <td>21.25</td>\n",
              "      <td>130.00</td>\n",
              "      <td>1203.0</td>\n",
              "      <td>0.10960</td>\n",
              "      <td>0.15990</td>\n",
              "      <td>0.1974</td>\n",
              "      <td>0.12790</td>\n",
              "      <td>0.2069</td>\n",
              "      <td>0.05999</td>\n",
              "      <td>0.7456</td>\n",
              "      <td>0.7869</td>\n",
              "      <td>4.585</td>\n",
              "      <td>94.03</td>\n",
              "      <td>0.006150</td>\n",
              "      <td>0.04006</td>\n",
              "      <td>0.03832</td>\n",
              "      <td>0.02058</td>\n",
              "      <td>0.02250</td>\n",
              "      <td>0.004571</td>\n",
              "      <td>23.57</td>\n",
              "      <td>25.53</td>\n",
              "      <td>152.50</td>\n",
              "      <td>1709.0</td>\n",
              "      <td>0.1444</td>\n",
              "      <td>0.4245</td>\n",
              "      <td>0.4504</td>\n",
              "      <td>0.2430</td>\n",
              "      <td>0.3613</td>\n",
              "      <td>0.08758</td>\n",
              "    </tr>\n",
              "    <tr>\n",
              "      <th>3</th>\n",
              "      <td>84348301</td>\n",
              "      <td>M</td>\n",
              "      <td>11.42</td>\n",
              "      <td>20.38</td>\n",
              "      <td>77.58</td>\n",
              "      <td>386.1</td>\n",
              "      <td>0.14250</td>\n",
              "      <td>0.28390</td>\n",
              "      <td>0.2414</td>\n",
              "      <td>0.10520</td>\n",
              "      <td>0.2597</td>\n",
              "      <td>0.09744</td>\n",
              "      <td>0.4956</td>\n",
              "      <td>1.1560</td>\n",
              "      <td>3.445</td>\n",
              "      <td>27.23</td>\n",
              "      <td>0.009110</td>\n",
              "      <td>0.07458</td>\n",
              "      <td>0.05661</td>\n",
              "      <td>0.01867</td>\n",
              "      <td>0.05963</td>\n",
              "      <td>0.009208</td>\n",
              "      <td>14.91</td>\n",
              "      <td>26.50</td>\n",
              "      <td>98.87</td>\n",
              "      <td>567.7</td>\n",
              "      <td>0.2098</td>\n",
              "      <td>0.8663</td>\n",
              "      <td>0.6869</td>\n",
              "      <td>0.2575</td>\n",
              "      <td>0.6638</td>\n",
              "      <td>0.17300</td>\n",
              "    </tr>\n",
              "    <tr>\n",
              "      <th>4</th>\n",
              "      <td>84358402</td>\n",
              "      <td>M</td>\n",
              "      <td>20.29</td>\n",
              "      <td>14.34</td>\n",
              "      <td>135.10</td>\n",
              "      <td>1297.0</td>\n",
              "      <td>0.10030</td>\n",
              "      <td>0.13280</td>\n",
              "      <td>0.1980</td>\n",
              "      <td>0.10430</td>\n",
              "      <td>0.1809</td>\n",
              "      <td>0.05883</td>\n",
              "      <td>0.7572</td>\n",
              "      <td>0.7813</td>\n",
              "      <td>5.438</td>\n",
              "      <td>94.44</td>\n",
              "      <td>0.011490</td>\n",
              "      <td>0.02461</td>\n",
              "      <td>0.05688</td>\n",
              "      <td>0.01885</td>\n",
              "      <td>0.01756</td>\n",
              "      <td>0.005115</td>\n",
              "      <td>22.54</td>\n",
              "      <td>16.67</td>\n",
              "      <td>152.20</td>\n",
              "      <td>1575.0</td>\n",
              "      <td>0.1374</td>\n",
              "      <td>0.2050</td>\n",
              "      <td>0.4000</td>\n",
              "      <td>0.1625</td>\n",
              "      <td>0.2364</td>\n",
              "      <td>0.07678</td>\n",
              "    </tr>\n",
              "  </tbody>\n",
              "</table>\n",
              "</div>"
            ],
            "text/plain": [
              "         id diagnosis  ...  worst_symmetry  worst_fractal_dimension\n",
              "0    842302         M  ...          0.4601                  0.11890\n",
              "1    842517         M  ...          0.2750                  0.08902\n",
              "2  84300903         M  ...          0.3613                  0.08758\n",
              "3  84348301         M  ...          0.6638                  0.17300\n",
              "4  84358402         M  ...          0.2364                  0.07678\n",
              "\n",
              "[5 rows x 32 columns]"
            ]
          },
          "metadata": {
            "tags": []
          },
          "execution_count": 1
        }
      ]
    },
    {
      "cell_type": "code",
      "metadata": {
        "id": "VkPcB1WCbdXY",
        "colab_type": "code",
        "colab": {}
      },
      "source": [
        "from scipy.stats import zscore\n",
        "X_columns = df.columns.drop('diagnosis').drop('id')\n",
        "\n",
        "for col in X_columns:\n",
        "  df[col] = zscore(df[col])\n",
        "\n",
        "X = df[X_columns].values\n",
        "y = df['diagnosis'].map({'M':1, 'B':0}).values"
      ],
      "execution_count": 0,
      "outputs": []
    },
    {
      "cell_type": "code",
      "metadata": {
        "id": "OrhdoNBwag7O",
        "colab_type": "code",
        "colab": {
          "base_uri": "https://localhost:8080/",
          "height": 672
        },
        "outputId": "c6afe491-2517-4a99-9361-d5cc519de6ff"
      },
      "source": [
        "# Classification neural network\n",
        "import numpy as np\n",
        "import tensorflow.keras\n",
        "from tensorflow.keras.models import Sequential\n",
        "from tensorflow.keras.layers import Dense, Activation\n",
        "from tensorflow.keras.callbacks import EarlyStopping\n",
        "from sklearn.model_selection import train_test_split\n",
        "\n",
        "# split into train/test\n",
        "X_train, X_test, y_train, y_test = train_test_split(X, y ,test_size=.25, random_state=42)\n",
        "\n",
        "model = Sequential()\n",
        "model.add(Dense(100, input_dim=X_train.shape[1], activation='relu', kernel_initializer='random_normal'))\n",
        "model.add(Dense(50, activation='relu', kernel_initializer='random_normal'))\n",
        "model.add(Dense(1, activation='sigmoid', kernel_initializer='random_normal'))\n",
        "model.compile(loss='binary_crossentropy', optimizer=tensorflow.keras.optimizers.Adam(), metrics=['accuracy'])\n",
        "\n",
        "monitor = EarlyStopping(monitor='val_loss', min_delta=1e-3, patience=5, verbose=1, mode='auto', restore_best_weights=True)\n",
        "\n",
        "model.fit(X_train, y_train, validation_data=(X_test, y_test), callbacks=[monitor], verbose=2, epochs=1000)"
      ],
      "execution_count": 9,
      "outputs": [
        {
          "output_type": "stream",
          "text": [
            "Epoch 1/1000\n",
            "14/14 - 0s - loss: 0.6566 - accuracy: 0.8521 - val_loss: 0.5957 - val_accuracy: 0.9510\n",
            "Epoch 2/1000\n",
            "14/14 - 0s - loss: 0.5094 - accuracy: 0.9319 - val_loss: 0.3768 - val_accuracy: 0.9580\n",
            "Epoch 3/1000\n",
            "14/14 - 0s - loss: 0.2817 - accuracy: 0.9437 - val_loss: 0.1679 - val_accuracy: 0.9580\n",
            "Epoch 4/1000\n",
            "14/14 - 0s - loss: 0.1528 - accuracy: 0.9507 - val_loss: 0.0922 - val_accuracy: 0.9720\n",
            "Epoch 5/1000\n",
            "14/14 - 0s - loss: 0.1049 - accuracy: 0.9648 - val_loss: 0.0708 - val_accuracy: 0.9790\n",
            "Epoch 6/1000\n",
            "14/14 - 0s - loss: 0.0892 - accuracy: 0.9812 - val_loss: 0.0618 - val_accuracy: 0.9790\n",
            "Epoch 7/1000\n",
            "14/14 - 0s - loss: 0.0706 - accuracy: 0.9812 - val_loss: 0.0570 - val_accuracy: 0.9930\n",
            "Epoch 8/1000\n",
            "14/14 - 0s - loss: 0.0707 - accuracy: 0.9789 - val_loss: 0.0543 - val_accuracy: 0.9930\n",
            "Epoch 9/1000\n",
            "14/14 - 0s - loss: 0.0794 - accuracy: 0.9812 - val_loss: 0.0505 - val_accuracy: 0.9930\n",
            "Epoch 10/1000\n",
            "14/14 - 0s - loss: 0.0562 - accuracy: 0.9812 - val_loss: 0.0550 - val_accuracy: 0.9860\n",
            "Epoch 11/1000\n",
            "14/14 - 0s - loss: 0.0529 - accuracy: 0.9836 - val_loss: 0.0532 - val_accuracy: 0.9860\n",
            "Epoch 12/1000\n",
            "14/14 - 0s - loss: 0.0481 - accuracy: 0.9859 - val_loss: 0.0510 - val_accuracy: 0.9860\n",
            "Epoch 13/1000\n",
            "14/14 - 0s - loss: 0.0569 - accuracy: 0.9883 - val_loss: 0.0483 - val_accuracy: 0.9860\n",
            "Epoch 14/1000\n",
            "14/14 - 0s - loss: 0.0472 - accuracy: 0.9883 - val_loss: 0.0541 - val_accuracy: 0.9860\n",
            "Epoch 15/1000\n",
            "14/14 - 0s - loss: 0.0399 - accuracy: 0.9906 - val_loss: 0.0500 - val_accuracy: 0.9860\n",
            "Epoch 16/1000\n",
            "14/14 - 0s - loss: 0.0386 - accuracy: 0.9930 - val_loss: 0.0505 - val_accuracy: 0.9860\n",
            "Epoch 17/1000\n",
            "14/14 - 0s - loss: 0.0340 - accuracy: 0.9930 - val_loss: 0.0533 - val_accuracy: 0.9860\n",
            "Epoch 18/1000\n",
            "Restoring model weights from the end of the best epoch.\n",
            "14/14 - 0s - loss: 0.0332 - accuracy: 0.9930 - val_loss: 0.0540 - val_accuracy: 0.9860\n",
            "Epoch 00018: early stopping\n"
          ],
          "name": "stdout"
        },
        {
          "output_type": "execute_result",
          "data": {
            "text/plain": [
              "<tensorflow.python.keras.callbacks.History at 0x7fd4bc9a1780>"
            ]
          },
          "metadata": {
            "tags": []
          },
          "execution_count": 9
        }
      ]
    },
    {
      "cell_type": "code",
      "metadata": {
        "id": "s-zTM_pHebkZ",
        "colab_type": "code",
        "colab": {}
      },
      "source": [
        "from sklearn.metrics import roc_curve, auc\n",
        "import matplotlib.pyplot as plt\n",
        "%matplotlib inline\n",
        "\n",
        "def plot_roc(pred, y):\n",
        "  fpr, tpr, _ = roc_curve(y, pred)\n",
        "  roc_auc = auc(fpr, tpr)\n",
        "\n",
        "  plt.figure()\n",
        "  plt.plot(fpr, tpr, label='ROC Curve (area=%.2f)' % roc_auc)\n",
        "  plt.plot([0,1],[0,1], 'k--')\n",
        "  plt.xlim([0.0, 1.0])\n",
        "  plt.ylim([0.0, 1.05])\n",
        "  plt.xlabel('False Positive Rate')\n",
        "  plt.ylabel('True Positive Rate')\n",
        "  plt.title('Receiver Operator Characteristics (ROC)')\n",
        "  plt.legend(loc='lower right')\n",
        "  plt.show()"
      ],
      "execution_count": 0,
      "outputs": []
    },
    {
      "cell_type": "code",
      "metadata": {
        "id": "E6STVbAgfGpT",
        "colab_type": "code",
        "colab": {
          "base_uri": "https://localhost:8080/",
          "height": 295
        },
        "outputId": "695ab296-5c01-47ab-803c-fbace84066cf"
      },
      "source": [
        "pred = model.predict(X_test)\n",
        "plot_roc(pred,y_test)"
      ],
      "execution_count": 18,
      "outputs": [
        {
          "output_type": "display_data",
          "data": {
            "image/png": "[encoded data removed]",
            "text/plain": [
              "<Figure size 432x288 with 1 Axes>"
            ]
          },
          "metadata": {
            "tags": [],
            "needs_background": "light"
          }
        }
      ]
    },
    {
      "cell_type": "markdown",
      "metadata": {
        "id": "Vv6kFG0QhW0S",
        "colab_type": "text"
      },
      "source": [
        "Multi class classification"
      ]
    },
    {
      "cell_type": "code",
      "metadata": {
        "id": "2ssL5Y9mnEyU",
        "colab_type": "code",
        "colab": {
          "base_uri": "https://localhost:8080/",
          "height": 106
        },
        "outputId": "48b84325-dc77-49d7-dc93-76b428c0baca"
      },
      "source": [
        "import pandas as pd\n",
        "from scipy.stats import zscore\n",
        "\n",
        "# Read the data set\n",
        "df = pd.read_csv(\n",
        "    \"https://data.heatonresearch.com/data/t81-558/jh-simple-dataset.csv\",\n",
        "    na_values=['NA','?'])\n",
        "\n",
        "df.head(2)"
      ],
      "execution_count": 35,
      "outputs": [
        {
          "output_type": "execute_result",
          "data": {
            "text/html": [
              "<div>\n",
              "<style scoped>\n",
              "    .dataframe tbody tr th:only-of-type {\n",
              "        vertical-align: middle;\n",
              "    }\n",
              "\n",
              "    .dataframe tbody tr th {\n",
              "        vertical-align: top;\n",
              "    }\n",
              "\n",
              "    .dataframe thead th {\n",
              "        text-align: right;\n",
              "    }\n",
              "</style>\n",
              "<table border=\"1\" class=\"dataframe\">\n",
              "  <thead>\n",
              "    <tr style=\"text-align: right;\">\n",
              "      <th></th>\n",
              "      <th>id</th>\n",
              "      <th>job</th>\n",
              "      <th>area</th>\n",
              "      <th>income</th>\n",
              "      <th>aspect</th>\n",
              "      <th>subscriptions</th>\n",
              "      <th>dist_healthy</th>\n",
              "      <th>save_rate</th>\n",
              "      <th>dist_unhealthy</th>\n",
              "      <th>age</th>\n",
              "      <th>pop_dense</th>\n",
              "      <th>retail_dense</th>\n",
              "      <th>crime</th>\n",
              "      <th>product</th>\n",
              "    </tr>\n",
              "  </thead>\n",
              "  <tbody>\n",
              "    <tr>\n",
              "      <th>0</th>\n",
              "      <td>1</td>\n",
              "      <td>vv</td>\n",
              "      <td>c</td>\n",
              "      <td>50876.0</td>\n",
              "      <td>13.100</td>\n",
              "      <td>1</td>\n",
              "      <td>9.017895</td>\n",
              "      <td>35</td>\n",
              "      <td>11.738935</td>\n",
              "      <td>49</td>\n",
              "      <td>0.885827</td>\n",
              "      <td>0.492126</td>\n",
              "      <td>0.071100</td>\n",
              "      <td>b</td>\n",
              "    </tr>\n",
              "    <tr>\n",
              "      <th>1</th>\n",
              "      <td>2</td>\n",
              "      <td>kd</td>\n",
              "      <td>c</td>\n",
              "      <td>60369.0</td>\n",
              "      <td>18.625</td>\n",
              "      <td>2</td>\n",
              "      <td>7.766643</td>\n",
              "      <td>59</td>\n",
              "      <td>6.805396</td>\n",
              "      <td>51</td>\n",
              "      <td>0.874016</td>\n",
              "      <td>0.342520</td>\n",
              "      <td>0.400809</td>\n",
              "      <td>c</td>\n",
              "    </tr>\n",
              "  </tbody>\n",
              "</table>\n",
              "</div>"
            ],
            "text/plain": [
              "   id job area   income  aspect  ...  age  pop_dense  retail_dense     crime  product\n",
              "0   1  vv    c  50876.0  13.100  ...   49   0.885827      0.492126  0.071100        b\n",
              "1   2  kd    c  60369.0  18.625  ...   51   0.874016      0.342520  0.400809        c\n",
              "\n",
              "[2 rows x 14 columns]"
            ]
          },
          "metadata": {
            "tags": []
          },
          "execution_count": 35
        }
      ]
    },
    {
      "cell_type": "code",
      "metadata": {
        "id": "C86ffsZfrXMD",
        "colab_type": "code",
        "colab": {
          "base_uri": "https://localhost:8080/",
          "height": 34
        },
        "outputId": "236e12b2-b0fa-47a3-cf5b-46f997ea6837"
      },
      "source": [
        "df['product'].unique()"
      ],
      "execution_count": 36,
      "outputs": [
        {
          "output_type": "execute_result",
          "data": {
            "text/plain": [
              "array(['b', 'c', 'a', 'd', 'f', 'e', 'g'], dtype=object)"
            ]
          },
          "metadata": {
            "tags": []
          },
          "execution_count": 36
        }
      ]
    },
    {
      "cell_type": "code",
      "metadata": {
        "id": "VV0H3DM5nOK3",
        "colab_type": "code",
        "colab": {}
      },
      "source": [
        "# Job, Area and Product are categorical variables, Whereas the product is the target\n",
        "# Therefore Job and Are are to dummy treated\n",
        "\n",
        "# Generate dummies fo Job\n",
        "df = pd.concat([df, pd.get_dummies(df['job'], prefix='job')], axis=1)\n",
        "df.drop(['job'], axis=1, inplace=True)\n",
        "\n",
        "# Generate dummies for Area\n",
        "df = pd.concat([df, pd.get_dummies(df['area'], prefix='area')], axis=1)\n",
        "df.drop(['area'], axis=1, inplace=True)\n",
        "\n",
        "# Treat missing values for Income\n",
        "med = df.income.median()\n",
        "df['income'] = df['income'].fillna(med)\n",
        "\n",
        "#Standardize ranges\n",
        "df['income'] = zscore(df['income'])\n",
        "df['aspect'] = zscore(df['aspect'])\n",
        "df['subscriptions'] = zscore(df['subscriptions'])\n",
        "df['save_rate'] = zscore(df['save_rate'])\n",
        "df['age'] = zscore(df['age'])\n",
        "df['dist_healthy'] = zscore(df['dist_healthy'])\n",
        "df['dist_unhealthy'] = zscore(df['dist_unhealthy'])\n",
        "\n",
        "# Convert to numpy for classification\n",
        "X_columns = df.columns.drop('product').drop('id')\n",
        "X = df[X_columns].values\n",
        "dummies = pd.get_dummies(df['product'])\n",
        "products = dummies.columns\n",
        "y = dummies.values"
      ],
      "execution_count": 0,
      "outputs": []
    },
    {
      "cell_type": "code",
      "metadata": {
        "id": "x6EjIXi3r99Y",
        "colab_type": "code",
        "colab": {
          "base_uri": "https://localhost:8080/",
          "height": 974
        },
        "outputId": "5fd93f8c-e8ff-44ca-8958-0f00976b44c4"
      },
      "source": [
        "import numpy as np\n",
        "import tensorflow.keras\n",
        "from tensorflow.keras.models import Sequential\n",
        "from tensorflow.keras.layers import Dense, Activation\n",
        "from tensorflow.keras.callbacks import EarlyStopping\n",
        "from sklearn.model_selection import train_test_split\n",
        "\n",
        "X_train, X_test, y_train, y_test = train_test_split(X, y, test_size=0.25, random_state=42)\n",
        "\n",
        "model = Sequential()\n",
        "model.add(Dense(100, input_dim=X_train.shape[1], activation='relu', kernel_initializer='random_normal'))\n",
        "model.add(Dense(50, activation='relu', kernel_initializer='random_normal'))\n",
        "model.add(Dense(y_train.shape[1], activation='softmax', kernel_initializer='random_normal'))\n",
        "model.compile(loss='categorical_crossentropy', optimizer='adam', metrics=['accuracy'])\n",
        "monitor = EarlyStopping(monitor='val_loss', min_delta=1e-3, patience=5, verbose=1, mode='auto', restore_best_weights=True)\n",
        "model.fit(X_train, y_train, validation_data=(X_test, y_test), callbacks=[monitor], verbose=2, epochs=1000)"
      ],
      "execution_count": 46,
      "outputs": [
        {
          "output_type": "stream",
          "text": [
            "Epoch 1/1000\n",
            "47/47 - 0s - loss: 1.6196 - accuracy: 0.4613 - val_loss: 1.1044 - val_accuracy: 0.4980\n",
            "Epoch 2/1000\n",
            "47/47 - 0s - loss: 1.0360 - accuracy: 0.5600 - val_loss: 0.9264 - val_accuracy: 0.6600\n",
            "Epoch 3/1000\n",
            "47/47 - 0s - loss: 0.8470 - accuracy: 0.6853 - val_loss: 0.8206 - val_accuracy: 0.6680\n",
            "Epoch 4/1000\n",
            "47/47 - 0s - loss: 0.7681 - accuracy: 0.6973 - val_loss: 0.7914 - val_accuracy: 0.6700\n",
            "Epoch 5/1000\n",
            "47/47 - 0s - loss: 0.7355 - accuracy: 0.7007 - val_loss: 0.7733 - val_accuracy: 0.6900\n",
            "Epoch 6/1000\n",
            "47/47 - 0s - loss: 0.7171 - accuracy: 0.7060 - val_loss: 0.7783 - val_accuracy: 0.6960\n",
            "Epoch 7/1000\n",
            "47/47 - 0s - loss: 0.6986 - accuracy: 0.7060 - val_loss: 0.7631 - val_accuracy: 0.6920\n",
            "Epoch 8/1000\n",
            "47/47 - 0s - loss: 0.6842 - accuracy: 0.7040 - val_loss: 0.7563 - val_accuracy: 0.6940\n",
            "Epoch 9/1000\n",
            "47/47 - 0s - loss: 0.6710 - accuracy: 0.7113 - val_loss: 0.7494 - val_accuracy: 0.6820\n",
            "Epoch 10/1000\n",
            "47/47 - 0s - loss: 0.6648 - accuracy: 0.7140 - val_loss: 0.7480 - val_accuracy: 0.7000\n",
            "Epoch 11/1000\n",
            "47/47 - 0s - loss: 0.6502 - accuracy: 0.7227 - val_loss: 0.7569 - val_accuracy: 0.6820\n",
            "Epoch 12/1000\n",
            "47/47 - 0s - loss: 0.6404 - accuracy: 0.7320 - val_loss: 0.7464 - val_accuracy: 0.6940\n",
            "Epoch 13/1000\n",
            "47/47 - 0s - loss: 0.6357 - accuracy: 0.7147 - val_loss: 0.7400 - val_accuracy: 0.6900\n",
            "Epoch 14/1000\n",
            "47/47 - 0s - loss: 0.6217 - accuracy: 0.7313 - val_loss: 0.7497 - val_accuracy: 0.6800\n",
            "Epoch 15/1000\n",
            "47/47 - 0s - loss: 0.6210 - accuracy: 0.7293 - val_loss: 0.7441 - val_accuracy: 0.6920\n",
            "Epoch 16/1000\n",
            "47/47 - 0s - loss: 0.6140 - accuracy: 0.7287 - val_loss: 0.7415 - val_accuracy: 0.7020\n",
            "Epoch 17/1000\n",
            "47/47 - 0s - loss: 0.6019 - accuracy: 0.7367 - val_loss: 0.7387 - val_accuracy: 0.6980\n",
            "Epoch 18/1000\n",
            "47/47 - 0s - loss: 0.5966 - accuracy: 0.7473 - val_loss: 0.7369 - val_accuracy: 0.7040\n",
            "Epoch 19/1000\n",
            "47/47 - 0s - loss: 0.5958 - accuracy: 0.7400 - val_loss: 0.7418 - val_accuracy: 0.6960\n",
            "Epoch 20/1000\n",
            "47/47 - 0s - loss: 0.5855 - accuracy: 0.7567 - val_loss: 0.7394 - val_accuracy: 0.7000\n",
            "Epoch 21/1000\n",
            "47/47 - 0s - loss: 0.5745 - accuracy: 0.7460 - val_loss: 0.7403 - val_accuracy: 0.6960\n",
            "Epoch 22/1000\n",
            "47/47 - 0s - loss: 0.5713 - accuracy: 0.7500 - val_loss: 0.7347 - val_accuracy: 0.7060\n",
            "Epoch 23/1000\n",
            "47/47 - 0s - loss: 0.5605 - accuracy: 0.7560 - val_loss: 0.7549 - val_accuracy: 0.6880\n",
            "Epoch 24/1000\n",
            "47/47 - 0s - loss: 0.5574 - accuracy: 0.7533 - val_loss: 0.7470 - val_accuracy: 0.6920\n",
            "Epoch 25/1000\n",
            "47/47 - 0s - loss: 0.5565 - accuracy: 0.7553 - val_loss: 0.7526 - val_accuracy: 0.6900\n",
            "Epoch 26/1000\n",
            "47/47 - 0s - loss: 0.5480 - accuracy: 0.7620 - val_loss: 0.7356 - val_accuracy: 0.6960\n",
            "Epoch 27/1000\n",
            "Restoring model weights from the end of the best epoch.\n",
            "47/47 - 0s - loss: 0.5415 - accuracy: 0.7667 - val_loss: 0.7386 - val_accuracy: 0.6900\n",
            "Epoch 00027: early stopping\n"
          ],
          "name": "stdout"
        },
        {
          "output_type": "execute_result",
          "data": {
            "text/plain": [
              "<tensorflow.python.keras.callbacks.History at 0x7fd4b5df4748>"
            ]
          },
          "metadata": {
            "tags": []
          },
          "execution_count": 46
        }
      ]
    },
    {
      "cell_type": "code",
      "metadata": {
        "id": "vDU8ccK2ujBD",
        "colab_type": "code",
        "colab": {}
      },
      "source": [
        "pred = model.predict(X_test)\n",
        "pred = np.argmax(pred, axis=1)"
      ],
      "execution_count": 0,
      "outputs": []
    },
    {
      "cell_type": "code",
      "metadata": {
        "id": "hbr4GlmCu9Os",
        "colab_type": "code",
        "colab": {
          "base_uri": "https://localhost:8080/",
          "height": 34
        },
        "outputId": "2a3ccaf5-e015-49c0-9e60-73abb77c7acd"
      },
      "source": [
        "from sklearn import metrics\n",
        "\n",
        "y_compare = np.argmax(y_test,axis=1) \n",
        "score = metrics.accuracy_score(y_compare, pred)\n",
        "print(\"Accuracy score: {}\".format(score))"
      ],
      "execution_count": 48,
      "outputs": [
        {
          "output_type": "stream",
          "text": [
            "Accuracy score: 0.706\n"
          ],
          "name": "stdout"
        }
      ]
    },
    {
      "cell_type": "markdown",
      "metadata": {
        "id": "-Pyik6qCw5Vg",
        "colab_type": "text"
      },
      "source": [
        "Classification Log Loss"
      ]
    },
    {
      "cell_type": "code",
      "metadata": {
        "id": "xOcMGFq-vaFO",
        "colab_type": "code",
        "colab": {
          "base_uri": "https://localhost:8080/",
          "height": 185
        },
        "outputId": "7d4c2eef-9e87-4454-a5a7-b1e490c144cc"
      },
      "source": [
        "from IPython.display import display\n",
        "\n",
        "# Dont display numpy in scientific notation\n",
        "np.set_printoptions(precision=4)\n",
        "np.set_printoptions(suppress=True)\n",
        "\n",
        "# Generate predictions\n",
        "pred = model.predict(X_test)\n",
        "\n",
        "print('Numpy array of predictions')\n",
        "display(pred[0:5])\n",
        "\n",
        "print('As per probability')\n",
        "print(pred[0]*100)\n",
        "\n",
        "score = metrics.log_loss(y_test, pred)\n",
        "print(\"Log loss score: {}\".format(score))\n",
        "\n",
        "# raw probabilities to chosen class (highest probability)\n",
        "pred = np.argmax(pred,axis=1) "
      ],
      "execution_count": 50,
      "outputs": [
        {
          "output_type": "stream",
          "text": [
            "Numpy array of predictions\n"
          ],
          "name": "stdout"
        },
        {
          "output_type": "display_data",
          "data": {
            "text/plain": [
              "array([[0.    , 0.0783, 0.699 , 0.2221, 0.0005, 0.    , 0.    ],\n",
              "       [0.    , 0.6893, 0.3104, 0.    , 0.0003, 0.    , 0.    ],\n",
              "       [0.    , 0.7457, 0.2498, 0.0005, 0.0039, 0.0001, 0.    ],\n",
              "       [0.    , 0.2783, 0.7099, 0.0098, 0.0019, 0.    , 0.    ],\n",
              "       [0.    , 0.0082, 0.6191, 0.3727, 0.    , 0.    , 0.    ]],\n",
              "      dtype=float32)"
            ]
          },
          "metadata": {
            "tags": []
          }
        },
        {
          "output_type": "stream",
          "text": [
            "As per probability\n",
            "[ 0.0003  7.8317 69.9034 22.2088  0.0549  0.0007  0.0001]\n",
            "Log loss score: 0.7334455452924594\n"
          ],
          "name": "stdout"
        }
      ]
    },
    {
      "cell_type": "code",
      "metadata": {
        "id": "y7VioOwhx2FH",
        "colab_type": "code",
        "colab": {}
      },
      "source": [
        ""
      ],
      "execution_count": 0,
      "outputs": []
    }
  ]
}