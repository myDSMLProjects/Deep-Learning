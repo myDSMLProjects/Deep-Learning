{
  "nbformat": 4,
  "nbformat_minor": 0,
  "metadata": {
    "colab": {
      "name": "KFold_optimization_training.ipynb",
      "provenance": [],
      "authorship_tag": "ABX9TyOQk/kZVNr1R6r8shrfcpcV",
      "include_colab_link": true
    },
    "kernelspec": {
      "name": "python3",
      "display_name": "Python 3"
    },
    "accelerator": "GPU"
  },
  "cells": [
    {
      "cell_type": "markdown",
      "metadata": {
        "id": "view-in-github",
        "colab_type": "text"
      },
      "source": [
        "<a href=\"https://colab.research.google.com/github/myDSMLProjects/Deep-Learning/blob/master/KFold_optimization_training.ipynb\" target=\"_parent\"><img src=\"https://colab.research.google.com/assets/colab-badge.svg\" alt=\"Open In Colab\"/></a>"
      ]
    },
    {
      "cell_type": "code",
      "metadata": {
        "id": "4eHbWs5uChT1",
        "colab_type": "code",
        "colab": {}
      },
      "source": [
        "import pandas as pd\n",
        "from scipy.stats import zscore\n",
        "from sklearn.model_selection import train_test_split\n",
        "\n",
        "df = pd.read_csv(\n",
        "    \"https://data.heatonresearch.com/data/t81-558/jh-simple-dataset.csv\",\n",
        "    na_values=['NA','?'])\n",
        "\n",
        "df = pd.concat([df, pd.get_dummies(df['job'], prefix='job')], axis=1)\n",
        "df.drop('job', axis=1, inplace=True)\n",
        "df = pd.concat([df, pd.get_dummies(df['area'], prefix='area')], axis=1)\n",
        "df.drop('area', axis=1, inplace=True)\n",
        "df = pd.concat([df, pd.get_dummies(df['product'], prefix='product')], axis=1)\n",
        "df.drop('product', axis=1, inplace=True)\n",
        "\n",
        "med = df['income'].median()\n",
        "df['income'] = df['income'].fillna(med)\n",
        "\n",
        "df['income'] = zscore(df['income'])\n",
        "df['aspect'] = zscore(df['aspect'])\n",
        "df['save_rate'] = zscore(df['save_rate'])\n",
        "df['subscriptions'] = zscore(df['subscriptions'])\n",
        "\n",
        "x_columns = df.columns.drop('age').drop('id')\n",
        "x = df[x_columns].values\n",
        "y = df['age'].values"
      ],
      "execution_count": 0,
      "outputs": []
    },
    {
      "cell_type": "code",
      "metadata": {
        "id": "8g1GUs4lF2Bx",
        "colab_type": "code",
        "colab": {
          "base_uri": "https://localhost:8080/",
          "height": 202
        },
        "outputId": "72c2e1d5-12dd-419a-a7ba-589852a1b6ad"
      },
      "source": [
        "import pandas as pd\n",
        "import os\n",
        "import numpy as np\n",
        "from sklearn import metrics\n",
        "from scipy.stats import zscore\n",
        "from sklearn.model_selection import KFold\n",
        "from tensorflow.keras.models import Sequential\n",
        "from tensorflow.keras.layers import Dense, Activation\n",
        "\n",
        "#cross validate\n",
        "kf = KFold(n_splits=5, shuffle=True, random_state=42)\n",
        "\n",
        "oos_y = []\n",
        "oos_pred = []\n",
        "\n",
        "fold = 0\n",
        "for train, test in kf.split(x):\n",
        "  fold += 1\n",
        "  print(f'Fold: {fold}')\n",
        "\n",
        "  x_train = x[train]\n",
        "  x_test = x[test]\n",
        "  y_train = y[train]\n",
        "  y_test = y[test]\n",
        "\n",
        "  model = Sequential()\n",
        "  model.add(Dense(25, input_dim = x.shape[1], activation='relu'))\n",
        "  model.add(Dense(10, activation='relu'))\n",
        "  model.add(Dense(1))\n",
        "  model.compile(loss='mean_squared_error', optimizer='adam')\n",
        "\n",
        "  model.fit(x_train , y_train, validation_data=(x_test, y_test), verbose=0, epochs=500)\n",
        "\n",
        "  pred = model.predict(x_test)\n",
        "  oos_y.append(y_test)\n",
        "  oos_pred.append(pred)\n",
        "\n",
        "  print(f'Fold score (RMSE): {np.sqrt(metrics.mean_squared_error(y_test, pred))}')\n",
        "\n",
        "oos_y = np.concatenate(oos_y)\n",
        "oos_pred = np.concatenate(oos_pred)\n",
        "print(f'Final out of sample score RMSE : {np.sqrt(metrics.mean_squared_error(oos_y, oos_pred))}')"
      ],
      "execution_count": 3,
      "outputs": [
        {
          "output_type": "stream",
          "text": [
            "Fold: 1\n",
            "Fold score (RMSE): 0.6518271120053309\n",
            "Fold: 2\n",
            "Fold score (RMSE): 0.5275155939276147\n",
            "Fold: 3\n",
            "Fold score (RMSE): 0.5892802189275216\n",
            "Fold: 4\n",
            "Fold score (RMSE): 0.4374763315667425\n",
            "Fold: 5\n",
            "Fold score (RMSE): 1.0007784488290543\n",
            "Final out of sample score RMSE : 0.6698276653771572\n"
          ],
          "name": "stdout"
        }
      ]
    },
    {
      "cell_type": "code",
      "metadata": {
        "id": "UFdb7thIIzVH",
        "colab_type": "code",
        "colab": {}
      },
      "source": [
        ""
      ],
      "execution_count": 0,
      "outputs": []
    }
  ]
}