{
  "nbformat": 4,
  "nbformat_minor": 0,
  "metadata": {
    "colab": {
      "name": "raw model-mpg.ipynb",
      "provenance": [],
      "collapsed_sections": [],
      "authorship_tag": "ABX9TyOGZMNj1H59afmGrhwhaqHw",
      "include_colab_link": true
    },
    "kernelspec": {
      "name": "python3",
      "display_name": "Python 3"
    },
    "accelerator": "GPU"
  },
  "cells": [
    {
      "cell_type": "markdown",
      "metadata": {
        "id": "view-in-github",
        "colab_type": "text"
      },
      "source": [
        "<a href=\"https://colab.research.google.com/github/myDSMLProjects/Deep-Learning/blob/master/raw_model_mpg.ipynb\" target=\"_parent\"><img src=\"https://colab.research.google.com/assets/colab-badge.svg\" alt=\"Open In Colab\"/></a>"
      ]
    },
    {
      "cell_type": "code",
      "metadata": {
        "id": "ekhnwRfJQZBL",
        "colab_type": "code",
        "colab": {}
      },
      "source": [
        "import tensorflow as tf\n",
        "from tensorflow.keras.models import Sequential\n",
        "from tensorflow.keras.layers import Dense, Activation\n",
        "import pandas as pd\n",
        "import io\n",
        "import os\n",
        "import requests\n",
        "import numpy as np\n",
        "from sklearn import metrics"
      ],
      "execution_count": 0,
      "outputs": []
    },
    {
      "cell_type": "code",
      "metadata": {
        "id": "lPsFO-3MIKf7",
        "colab_type": "code",
        "colab": {}
      },
      "source": [
        "save_path = '.'"
      ],
      "execution_count": 0,
      "outputs": []
    },
    {
      "cell_type": "code",
      "metadata": {
        "id": "nJmf6Fm_QijX",
        "colab_type": "code",
        "colab": {
          "base_uri": "https://localhost:8080/",
          "height": 34
        },
        "outputId": "28f00161-396f-470c-e900-2c147a1a80e8"
      },
      "source": [
        "tf.__version__"
      ],
      "execution_count": 2,
      "outputs": [
        {
          "output_type": "execute_result",
          "data": {
            "text/plain": [
              "'2.2.0-rc3'"
            ]
          },
          "metadata": {
            "tags": []
          },
          "execution_count": 2
        }
      ]
    },
    {
      "cell_type": "code",
      "metadata": {
        "id": "zJ86lk7qTLy4",
        "colab_type": "code",
        "colab": {}
      },
      "source": [
        "df = pd.read_csv(\"https://data.heatonresearch.com/data/t81-558/auto-mpg.csv\", \n",
        "    na_values=['NA', '?'])"
      ],
      "execution_count": 0,
      "outputs": []
    },
    {
      "cell_type": "code",
      "metadata": {
        "id": "fAocpJccTY5u",
        "colab_type": "code",
        "colab": {
          "base_uri": "https://localhost:8080/",
          "height": 333
        },
        "outputId": "9420bc93-b455-43d9-8f5a-36fb47e51511"
      },
      "source": [
        "df.head(5)"
      ],
      "execution_count": 4,
      "outputs": [
        {
          "output_type": "execute_result",
          "data": {
            "text/html": [
              "<div>\n",
              "<style scoped>\n",
              "    .dataframe tbody tr th:only-of-type {\n",
              "        vertical-align: middle;\n",
              "    }\n",
              "\n",
              "    .dataframe tbody tr th {\n",
              "        vertical-align: top;\n",
              "    }\n",
              "\n",
              "    .dataframe thead th {\n",
              "        text-align: right;\n",
              "    }\n",
              "</style>\n",
              "<table border=\"1\" class=\"dataframe\">\n",
              "  <thead>\n",
              "    <tr style=\"text-align: right;\">\n",
              "      <th></th>\n",
              "      <th>mpg</th>\n",
              "      <th>cylinders</th>\n",
              "      <th>displacement</th>\n",
              "      <th>horsepower</th>\n",
              "      <th>weight</th>\n",
              "      <th>acceleration</th>\n",
              "      <th>year</th>\n",
              "      <th>origin</th>\n",
              "      <th>name</th>\n",
              "    </tr>\n",
              "  </thead>\n",
              "  <tbody>\n",
              "    <tr>\n",
              "      <th>0</th>\n",
              "      <td>18.0</td>\n",
              "      <td>8</td>\n",
              "      <td>307.0</td>\n",
              "      <td>130.0</td>\n",
              "      <td>3504</td>\n",
              "      <td>12.0</td>\n",
              "      <td>70</td>\n",
              "      <td>1</td>\n",
              "      <td>chevrolet chevelle malibu</td>\n",
              "    </tr>\n",
              "    <tr>\n",
              "      <th>1</th>\n",
              "      <td>15.0</td>\n",
              "      <td>8</td>\n",
              "      <td>350.0</td>\n",
              "      <td>165.0</td>\n",
              "      <td>3693</td>\n",
              "      <td>11.5</td>\n",
              "      <td>70</td>\n",
              "      <td>1</td>\n",
              "      <td>buick skylark 320</td>\n",
              "    </tr>\n",
              "    <tr>\n",
              "      <th>2</th>\n",
              "      <td>18.0</td>\n",
              "      <td>8</td>\n",
              "      <td>318.0</td>\n",
              "      <td>150.0</td>\n",
              "      <td>3436</td>\n",
              "      <td>11.0</td>\n",
              "      <td>70</td>\n",
              "      <td>1</td>\n",
              "      <td>plymouth satellite</td>\n",
              "    </tr>\n",
              "    <tr>\n",
              "      <th>3</th>\n",
              "      <td>16.0</td>\n",
              "      <td>8</td>\n",
              "      <td>304.0</td>\n",
              "      <td>150.0</td>\n",
              "      <td>3433</td>\n",
              "      <td>12.0</td>\n",
              "      <td>70</td>\n",
              "      <td>1</td>\n",
              "      <td>amc rebel sst</td>\n",
              "    </tr>\n",
              "    <tr>\n",
              "      <th>4</th>\n",
              "      <td>17.0</td>\n",
              "      <td>8</td>\n",
              "      <td>302.0</td>\n",
              "      <td>140.0</td>\n",
              "      <td>3449</td>\n",
              "      <td>10.5</td>\n",
              "      <td>70</td>\n",
              "      <td>1</td>\n",
              "      <td>ford torino</td>\n",
              "    </tr>\n",
              "  </tbody>\n",
              "</table>\n",
              "</div>"
            ],
            "text/plain": [
              "    mpg  cylinders  displacement  ...  year  origin                       name\n",
              "0  18.0          8         307.0  ...    70       1  chevrolet chevelle malibu\n",
              "1  15.0          8         350.0  ...    70       1          buick skylark 320\n",
              "2  18.0          8         318.0  ...    70       1         plymouth satellite\n",
              "3  16.0          8         304.0  ...    70       1              amc rebel sst\n",
              "4  17.0          8         302.0  ...    70       1                ford torino\n",
              "\n",
              "[5 rows x 9 columns]"
            ]
          },
          "metadata": {
            "tags": []
          },
          "execution_count": 4
        }
      ]
    },
    {
      "cell_type": "code",
      "metadata": {
        "id": "9IGm1W1rTaoK",
        "colab_type": "code",
        "colab": {}
      },
      "source": [
        "cars = df['name']"
      ],
      "execution_count": 0,
      "outputs": []
    },
    {
      "cell_type": "code",
      "metadata": {
        "id": "ZzJjT_UwTlDZ",
        "colab_type": "code",
        "colab": {
          "base_uri": "https://localhost:8080/",
          "height": 218
        },
        "outputId": "b15df0b5-8e56-465f-a9c0-be191121be9b"
      },
      "source": [
        "cars"
      ],
      "execution_count": 6,
      "outputs": [
        {
          "output_type": "execute_result",
          "data": {
            "text/plain": [
              "0      chevrolet chevelle malibu\n",
              "1              buick skylark 320\n",
              "2             plymouth satellite\n",
              "3                  amc rebel sst\n",
              "4                    ford torino\n",
              "                 ...            \n",
              "393              ford mustang gl\n",
              "394                    vw pickup\n",
              "395                dodge rampage\n",
              "396                  ford ranger\n",
              "397                   chevy s-10\n",
              "Name: name, Length: 398, dtype: object"
            ]
          },
          "metadata": {
            "tags": []
          },
          "execution_count": 6
        }
      ]
    },
    {
      "cell_type": "code",
      "metadata": {
        "id": "25dKVt-BTl7Y",
        "colab_type": "code",
        "colab": {}
      },
      "source": [
        "# handling the missing values\n",
        "df['horsepower'] = df['horsepower'].fillna(df['horsepower'].median())"
      ],
      "execution_count": 0,
      "outputs": []
    },
    {
      "cell_type": "code",
      "metadata": {
        "id": "cQeycWU-T2WI",
        "colab_type": "code",
        "colab": {}
      },
      "source": [
        "# pandas to numpy\n",
        "X = df[['cylinders', 'displacement', 'horsepower', 'weight',\n",
        "       'acceleration', 'year', 'origin']].values\n",
        "y = df['mpg'].values"
      ],
      "execution_count": 0,
      "outputs": []
    },
    {
      "cell_type": "code",
      "metadata": {
        "id": "Wr4SvLNUUDUx",
        "colab_type": "code",
        "colab": {
          "base_uri": "https://localhost:8080/",
          "height": 1000
        },
        "outputId": "528d28a2-5157-4605-88d0-9707a01908cb"
      },
      "source": [
        "# Building the neural network\n",
        "model = Sequential()\n",
        "model.add(Dense(25, input_dim=X.shape[1], activation='relu')) # hidden1\n",
        "model.add(Dense(10, activation='relu')) # hidden2\n",
        "model.add(Dense(1)) # Output\n",
        "\n",
        "model.compile(loss='mean_squared_error', optimizer='adam')\n",
        "model.fit(X, y, verbose=2, epochs=100)"
      ],
      "execution_count": 9,
      "outputs": [
        {
          "output_type": "stream",
          "text": [
            "Epoch 1/100\n",
            "13/13 - 0s - loss: 13064.1562\n",
            "Epoch 2/100\n",
            "13/13 - 0s - loss: 1030.4706\n",
            "Epoch 3/100\n",
            "13/13 - 0s - loss: 941.6262\n",
            "Epoch 4/100\n",
            "13/13 - 0s - loss: 174.2743\n",
            "Epoch 5/100\n",
            "13/13 - 0s - loss: 141.2920\n",
            "Epoch 6/100\n",
            "13/13 - 0s - loss: 113.3960\n",
            "Epoch 7/100\n",
            "13/13 - 0s - loss: 100.4741\n",
            "Epoch 8/100\n",
            "13/13 - 0s - loss: 95.0682\n",
            "Epoch 9/100\n",
            "13/13 - 0s - loss: 97.6284\n",
            "Epoch 10/100\n",
            "13/13 - 0s - loss: 92.7464\n",
            "Epoch 11/100\n",
            "13/13 - 0s - loss: 93.6262\n",
            "Epoch 12/100\n",
            "13/13 - 0s - loss: 92.0554\n",
            "Epoch 13/100\n",
            "13/13 - 0s - loss: 95.9909\n",
            "Epoch 14/100\n",
            "13/13 - 0s - loss: 94.6854\n",
            "Epoch 15/100\n",
            "13/13 - 0s - loss: 92.6526\n",
            "Epoch 16/100\n",
            "13/13 - 0s - loss: 91.9128\n",
            "Epoch 17/100\n",
            "13/13 - 0s - loss: 93.1650\n",
            "Epoch 18/100\n",
            "13/13 - 0s - loss: 91.9377\n",
            "Epoch 19/100\n",
            "13/13 - 0s - loss: 93.0336\n",
            "Epoch 20/100\n",
            "13/13 - 0s - loss: 95.5114\n",
            "Epoch 21/100\n",
            "13/13 - 0s - loss: 91.5287\n",
            "Epoch 22/100\n",
            "13/13 - 0s - loss: 88.3162\n",
            "Epoch 23/100\n",
            "13/13 - 0s - loss: 90.4517\n",
            "Epoch 24/100\n",
            "13/13 - 0s - loss: 92.2624\n",
            "Epoch 25/100\n",
            "13/13 - 0s - loss: 90.3456\n",
            "Epoch 26/100\n",
            "13/13 - 0s - loss: 90.5737\n",
            "Epoch 27/100\n",
            "13/13 - 0s - loss: 88.5770\n",
            "Epoch 28/100\n",
            "13/13 - 0s - loss: 87.0267\n",
            "Epoch 29/100\n",
            "13/13 - 0s - loss: 88.0852\n",
            "Epoch 30/100\n",
            "13/13 - 0s - loss: 86.2090\n",
            "Epoch 31/100\n",
            "13/13 - 0s - loss: 83.8252\n",
            "Epoch 32/100\n",
            "13/13 - 0s - loss: 84.2261\n",
            "Epoch 33/100\n",
            "13/13 - 0s - loss: 84.1066\n",
            "Epoch 34/100\n",
            "13/13 - 0s - loss: 83.0781\n",
            "Epoch 35/100\n",
            "13/13 - 0s - loss: 82.1864\n",
            "Epoch 36/100\n",
            "13/13 - 0s - loss: 84.6579\n",
            "Epoch 37/100\n",
            "13/13 - 0s - loss: 85.3966\n",
            "Epoch 38/100\n",
            "13/13 - 0s - loss: 81.2690\n",
            "Epoch 39/100\n",
            "13/13 - 0s - loss: 80.9710\n",
            "Epoch 40/100\n",
            "13/13 - 0s - loss: 81.4660\n",
            "Epoch 41/100\n",
            "13/13 - 0s - loss: 78.2013\n",
            "Epoch 42/100\n",
            "13/13 - 0s - loss: 83.6764\n",
            "Epoch 43/100\n",
            "13/13 - 0s - loss: 81.5646\n",
            "Epoch 44/100\n",
            "13/13 - 0s - loss: 78.7460\n",
            "Epoch 45/100\n",
            "13/13 - 0s - loss: 77.3021\n",
            "Epoch 46/100\n",
            "13/13 - 0s - loss: 80.9492\n",
            "Epoch 47/100\n",
            "13/13 - 0s - loss: 77.3134\n",
            "Epoch 48/100\n",
            "13/13 - 0s - loss: 79.1876\n",
            "Epoch 49/100\n",
            "13/13 - 0s - loss: 80.2647\n",
            "Epoch 50/100\n",
            "13/13 - 0s - loss: 75.5236\n",
            "Epoch 51/100\n",
            "13/13 - 0s - loss: 75.2924\n",
            "Epoch 52/100\n",
            "13/13 - 0s - loss: 74.5890\n",
            "Epoch 53/100\n",
            "13/13 - 0s - loss: 74.8392\n",
            "Epoch 54/100\n",
            "13/13 - 0s - loss: 74.7207\n",
            "Epoch 55/100\n",
            "13/13 - 0s - loss: 75.3397\n",
            "Epoch 56/100\n",
            "13/13 - 0s - loss: 71.6458\n",
            "Epoch 57/100\n",
            "13/13 - 0s - loss: 70.7322\n",
            "Epoch 58/100\n",
            "13/13 - 0s - loss: 71.0929\n",
            "Epoch 59/100\n",
            "13/13 - 0s - loss: 70.4848\n",
            "Epoch 60/100\n",
            "13/13 - 0s - loss: 70.2247\n",
            "Epoch 61/100\n",
            "13/13 - 0s - loss: 70.8611\n",
            "Epoch 62/100\n",
            "13/13 - 0s - loss: 70.7306\n",
            "Epoch 63/100\n",
            "13/13 - 0s - loss: 71.9635\n",
            "Epoch 64/100\n",
            "13/13 - 0s - loss: 70.3900\n",
            "Epoch 65/100\n",
            "13/13 - 0s - loss: 67.9409\n",
            "Epoch 66/100\n",
            "13/13 - 0s - loss: 66.9601\n",
            "Epoch 67/100\n",
            "13/13 - 0s - loss: 66.9922\n",
            "Epoch 68/100\n",
            "13/13 - 0s - loss: 65.8653\n",
            "Epoch 69/100\n",
            "13/13 - 0s - loss: 66.0731\n",
            "Epoch 70/100\n",
            "13/13 - 0s - loss: 66.2998\n",
            "Epoch 71/100\n",
            "13/13 - 0s - loss: 70.6581\n",
            "Epoch 72/100\n",
            "13/13 - 0s - loss: 64.5827\n",
            "Epoch 73/100\n",
            "13/13 - 0s - loss: 67.3613\n",
            "Epoch 74/100\n",
            "13/13 - 0s - loss: 66.1657\n",
            "Epoch 75/100\n",
            "13/13 - 0s - loss: 64.5573\n",
            "Epoch 76/100\n",
            "13/13 - 0s - loss: 65.4479\n",
            "Epoch 77/100\n",
            "13/13 - 0s - loss: 62.0987\n",
            "Epoch 78/100\n",
            "13/13 - 0s - loss: 61.1443\n",
            "Epoch 79/100\n",
            "13/13 - 0s - loss: 63.4161\n",
            "Epoch 80/100\n",
            "13/13 - 0s - loss: 64.8215\n",
            "Epoch 81/100\n",
            "13/13 - 0s - loss: 62.5929\n",
            "Epoch 82/100\n",
            "13/13 - 0s - loss: 58.8025\n",
            "Epoch 83/100\n",
            "13/13 - 0s - loss: 60.1273\n",
            "Epoch 84/100\n",
            "13/13 - 0s - loss: 56.9975\n",
            "Epoch 85/100\n",
            "13/13 - 0s - loss: 56.7720\n",
            "Epoch 86/100\n",
            "13/13 - 0s - loss: 57.0951\n",
            "Epoch 87/100\n",
            "13/13 - 0s - loss: 55.7954\n",
            "Epoch 88/100\n",
            "13/13 - 0s - loss: 55.9985\n",
            "Epoch 89/100\n",
            "13/13 - 0s - loss: 59.0601\n",
            "Epoch 90/100\n",
            "13/13 - 0s - loss: 59.6058\n",
            "Epoch 91/100\n",
            "13/13 - 0s - loss: 57.2078\n",
            "Epoch 92/100\n",
            "13/13 - 0s - loss: 56.5083\n",
            "Epoch 93/100\n",
            "13/13 - 0s - loss: 54.5195\n",
            "Epoch 94/100\n",
            "13/13 - 0s - loss: 54.6240\n",
            "Epoch 95/100\n",
            "13/13 - 0s - loss: 55.0800\n",
            "Epoch 96/100\n",
            "13/13 - 0s - loss: 53.0050\n",
            "Epoch 97/100\n",
            "13/13 - 0s - loss: 53.1397\n",
            "Epoch 98/100\n",
            "13/13 - 0s - loss: 52.8165\n",
            "Epoch 99/100\n",
            "13/13 - 0s - loss: 51.1770\n",
            "Epoch 100/100\n",
            "13/13 - 0s - loss: 52.6666\n"
          ],
          "name": "stdout"
        },
        {
          "output_type": "execute_result",
          "data": {
            "text/plain": [
              "<tensorflow.python.keras.callbacks.History at 0x7f98a040a0f0>"
            ]
          },
          "metadata": {
            "tags": []
          },
          "execution_count": 9
        }
      ]
    },
    {
      "cell_type": "code",
      "metadata": {
        "id": "yd6sfrkYVgDZ",
        "colab_type": "code",
        "colab": {
          "base_uri": "https://localhost:8080/",
          "height": 202
        },
        "outputId": "973f8096-428e-489c-beb7-a0c96f1cc4d4"
      },
      "source": [
        "pred = model.predict(X)\n",
        "print(f'shape pf prediction : {pred.shape}')\n",
        "print(pred[:10])"
      ],
      "execution_count": 10,
      "outputs": [
        {
          "output_type": "stream",
          "text": [
            "shape pf prediction : (398, 1)\n",
            "[[12.262991 ]\n",
            " [11.07044  ]\n",
            " [11.894886 ]\n",
            " [14.142155 ]\n",
            " [13.54645  ]\n",
            " [ 8.718355 ]\n",
            " [ 7.1609817]\n",
            " [ 8.438959 ]\n",
            " [ 8.304792 ]\n",
            " [ 8.921631 ]]\n"
          ],
          "name": "stdout"
        }
      ]
    },
    {
      "cell_type": "code",
      "metadata": {
        "id": "pkZkj04DYsfn",
        "colab_type": "code",
        "colab": {
          "base_uri": "https://localhost:8080/",
          "height": 34
        },
        "outputId": "8e833f40-6471-4d5b-d06f-3c58884d0a98"
      },
      "source": [
        "print(metrics.r2_score(y, pred))"
      ],
      "execution_count": 11,
      "outputs": [
        {
          "output_type": "stream",
          "text": [
            "0.16898958240107165\n"
          ],
          "name": "stdout"
        }
      ]
    },
    {
      "cell_type": "code",
      "metadata": {
        "id": "YUkjVqyHY-Sh",
        "colab_type": "code",
        "colab": {
          "base_uri": "https://localhost:8080/",
          "height": 34
        },
        "outputId": "b36442bf-d536-497f-8eba-a4d082104b41"
      },
      "source": [
        "score = np.sqrt(metrics.mean_squared_error(pred, y))\n",
        "print(f'RMSE : {score}')"
      ],
      "execution_count": 12,
      "outputs": [
        {
          "output_type": "stream",
          "text": [
            "RMSE : 7.116076864254066\n"
          ],
          "name": "stdout"
        }
      ]
    },
    {
      "cell_type": "code",
      "metadata": {
        "id": "eqIDxQzhZZ2q",
        "colab_type": "code",
        "colab": {
          "base_uri": "https://localhost:8080/",
          "height": 185
        },
        "outputId": "6979a725-7c5b-4ffd-dff9-b1f718fd120d"
      },
      "source": [
        "# Sample predictions\n",
        "for i in range(10):\n",
        "  print(f'{i+1}. Car name: {cars[i]}, Actual MPG: {y[i]}, Predicted MPG: {pred[i]}')"
      ],
      "execution_count": 13,
      "outputs": [
        {
          "output_type": "stream",
          "text": [
            "1. Car name: chevrolet chevelle malibu, Actual MPG: 18.0, Predicted MPG: [12.262991]\n",
            "2. Car name: buick skylark 320, Actual MPG: 15.0, Predicted MPG: [11.07044]\n",
            "3. Car name: plymouth satellite, Actual MPG: 18.0, Predicted MPG: [11.894886]\n",
            "4. Car name: amc rebel sst, Actual MPG: 16.0, Predicted MPG: [14.142155]\n",
            "5. Car name: ford torino, Actual MPG: 17.0, Predicted MPG: [13.54645]\n",
            "6. Car name: ford galaxie 500, Actual MPG: 15.0, Predicted MPG: [8.718355]\n",
            "7. Car name: chevrolet impala, Actual MPG: 14.0, Predicted MPG: [7.1609817]\n",
            "8. Car name: plymouth fury iii, Actual MPG: 14.0, Predicted MPG: [8.438959]\n",
            "9. Car name: pontiac catalina, Actual MPG: 14.0, Predicted MPG: [8.304792]\n",
            "10. Car name: amc ambassador dpl, Actual MPG: 15.0, Predicted MPG: [8.921631]\n"
          ],
          "name": "stdout"
        }
      ]
    },
    {
      "cell_type": "code",
      "metadata": {
        "id": "YJuY3W0fd3LK",
        "colab_type": "code",
        "colab": {}
      },
      "source": [
        "# Save neural network structure to json (no weights)\n",
        "model_json = model.to_json()\n",
        "with open(os.path.join(save_path, 'network.json'), 'w') as json_file:\n",
        "  json_file.write(model_json)\n",
        "\n",
        "# Save neural network structure to YAML (no weights)\n",
        "model_yaml = model.to_yaml()\n",
        "with open(os.path.join(save_path, 'network.yaml'), 'w') as yaml_file:\n",
        "  yaml_file.write(model_yaml)\n",
        "\n",
        "# Save neural network structure to HDF5 (saves everything, suggested)\n",
        "model.save(os.path.join(save_path, 'network.h5'))"
      ],
      "execution_count": 0,
      "outputs": []
    },
    {
      "cell_type": "code",
      "metadata": {
        "id": "K1DnDHwfHypu",
        "colab_type": "code",
        "colab": {
          "base_uri": "https://localhost:8080/",
          "height": 34
        },
        "outputId": "60310706-5e8a-4f61-fb24-1061425d0885"
      },
      "source": [
        "from tensorflow.keras.models import load_model\n",
        "model2 = load_model(os.path.join(save_path, 'network.h5'))\n",
        "pred = model2.predict(X)\n",
        "\n",
        "# Measure RMSE error.  RMSE is common for regression.\n",
        "score = np.sqrt(metrics.mean_squared_error(pred, y))\n",
        "print(f'After load score(RMSE: {score}')\n"
      ],
      "execution_count": 20,
      "outputs": [
        {
          "output_type": "stream",
          "text": [
            "After load score(RMSE: 7.116076864254066\n"
          ],
          "name": "stdout"
        }
      ]
    },
    {
      "cell_type": "code",
      "metadata": {
        "id": "ZbqOdlfuI6fM",
        "colab_type": "code",
        "colab": {}
      },
      "source": [
        ""
      ],
      "execution_count": 0,
      "outputs": []
    }
  ]
}